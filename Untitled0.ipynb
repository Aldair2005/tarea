{
  "nbformat": 4,
  "nbformat_minor": 0,
  "metadata": {
    "colab": {
      "provenance": [],
      "authorship_tag": "ABX9TyNwNHo/YK4KCoLn4L8EMDOC",
      "include_colab_link": true
    },
    "kernelspec": {
      "name": "python3",
      "display_name": "Python 3"
    },
    "language_info": {
      "name": "python"
    }
  },
  "cells": [
    {
      "cell_type": "markdown",
      "metadata": {
        "id": "view-in-github",
        "colab_type": "text"
      },
      "source": [
        "<a href=\"https://colab.research.google.com/github/Aldair2005/tarea/blob/main/Untitled0.ipynb\" target=\"_parent\"><img src=\"https://colab.research.google.com/assets/colab-badge.svg\" alt=\"Open In Colab\"/></a>"
      ]
    },
    {
      "cell_type": "code",
      "execution_count": 16,
      "metadata": {
        "id": "d3X5HUy2x3VB"
      },
      "outputs": [],
      "source": [
        "import socket\n",
        "\n",
        "HOST = '0.0.0.0'  # Dirección IP del servidor\n",
        "PORT = 12346    # Puerto en el que se va a escuchar\n"
      ]
    },
    {
      "cell_type": "code",
      "source": [
        "def handle_client(conn, addr):\n",
        "    print('Cliente conectado:', addr)\n",
        "\n",
        "    while True:\n",
        "        data = conn.recv(1024)  # Recibir datos del cliente\n",
        "        if not data:\n",
        "            break\n",
        "\n",
        "        # Procesar los datos recibidos\n",
        "        message = data.decode()\n",
        "        response = message.upper()\n",
        "\n",
        "        conn.sendall(response.encode())  # Enviar la respuesta al cliente\n",
        "\n",
        "    print('Cliente desconectado:', addr)\n",
        "    conn.close()  # Cerrar la conexión\n"
      ],
      "metadata": {
        "id": "MHLddPepx-Y8"
      },
      "execution_count": 7,
      "outputs": []
    },
    {
      "cell_type": "code",
      "source": [
        "def run_server():\n",
        "    server_socket = socket.socket(socket.AF_INET, socket.SOCK_STREAM)  # Crear un socket TCP\n",
        "    server_socket.bind((HOST, PORT))  # Vincular el socket al host y puerto\n",
        "    server_socket.listen(5)  # Escuchar conexiones entrantes\n",
        "\n",
        "    print('Servidor TCP multicliente iniciado en {}:{}'.format(HOST, PORT))\n",
        "\n",
        "    while True:\n",
        "        conn, addr = server_socket.accept()  # Aceptar una nueva conexión\n",
        "        handle_client(conn, addr)  # Manejar la conexión en un hilo separado\n",
        "\n",
        "run_server()  # Ejecutar el servidor\n"
      ],
      "metadata": {
        "colab": {
          "base_uri": "https://localhost:8080/"
        },
        "id": "7hMr8SMTy64k",
        "outputId": "785309eb-73e8-4fef-d15e-2812bc926c2f"
      },
      "execution_count": null,
      "outputs": [
        {
          "output_type": "stream",
          "name": "stdout",
          "text": [
            "Servidor TCP multicliente iniciado en 0.0.0.0:12346\n"
          ]
        }
      ]
    }
  ]
}